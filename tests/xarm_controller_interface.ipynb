{
 "cells": [
  {
   "cell_type": "code",
   "execution_count": 1,
   "id": "ad5f4a86",
   "metadata": {},
   "outputs": [
    {
     "name": "stderr",
     "output_type": "stream",
     "text": [
      "\u001b[93m[WARNING] [14:49:47.016520] - No global configuration provided. Using default system configuration.\u001b[0m\n",
      "\u001b[96m[INFO] [14:49:47.020202] - Service: Successfully registered '__DEFAULT_SERVICE/GetInfo/XarmJointController_f1360507-ae87-4169-867a-fb65344d1860' with registry.\u001b[0m\n",
      "\u001b[96m[INFO] [14:49:47.022390] - Service: Successfully registered '__DEFAULT_SERVICE/SuspendNode/XarmJointController_f1360507-ae87-4169-867a-fb65344d1860' with registry.\u001b[0m\n",
      "\u001b[96m[INFO] [14:49:47.024116] - Service: Successfully registered '__DEFAULT_SERVICE/RestartNode/XarmJointController_f1360507-ae87-4169-867a-fb65344d1860' with registry.\u001b[0m\n",
      "\u001b[91m[ERROR] [14:49:47.024752] - Couldn't load config for other 'XarmJointController'\u001b[0m\n",
      "\u001b[92m\u001b[1m[OK] [14:49:47.025866] - setup publisher Xarm/joint_group_command/sim[joint_group_command_t]\u001b[0m\n",
      "\u001b[92m\u001b[1m[OK] [14:49:47.027392] - setup publisher Xarm/cartesian_command/sim[task_space_command_t]\u001b[0m\n",
      "\u001b[92m\u001b[1m[OK] [14:49:47.028736] - subscribed to Xarm/joint_states/sim[joint_state_t]\u001b[0m\n"
     ]
    },
    {
     "name": "stdout",
     "output_type": "stream",
     "text": [
      "None\n"
     ]
    }
   ],
   "source": [
    "import numpy as np\n",
    "from arktypes import joint_group_command_t, task_space_command_t, joint_state_t\n",
    "from arktypes.utils import unpack, pack\n",
    "from ark.client.comm_infrastructure.instance_node import InstanceNode\n",
    "\n",
    "SIM = True\n",
    "\n",
    "class XarmControllerNode(InstanceNode):\n",
    "\n",
    "    def __init__(self):\n",
    "        '''\n",
    "        Initialize the XarmJointController.\n",
    "        This class is responsible for controlling the Xarm robot's joints.\n",
    "        '''\n",
    "        super().__init__(\"XarmJointController\")\n",
    "\n",
    "        if SIM == True:\n",
    "            self.joint_group_command = self.create_publisher(\"Xarm/joint_group_command/sim\", joint_group_command_t)\n",
    "            self.task_space_command = self.create_publisher(\"Xarm/cartesian_command/sim\", task_space_command_t)\n",
    "\n",
    "            self.state = self.create_listener(\"Xarm/joint_states/sim\", joint_state_t)\n",
    "\n",
    "controller = XarmControllerNode()"
   ]
  },
  {
   "cell_type": "markdown",
   "id": "7142c226",
   "metadata": {},
   "source": [
    "---"
   ]
  },
  {
   "cell_type": "markdown",
   "id": "e9f1afe2",
   "metadata": {},
   "source": [
    "# Joint Group Control"
   ]
  },
  {
   "cell_type": "code",
   "execution_count": 93,
   "id": "d86ec1f1",
   "metadata": {},
   "outputs": [],
   "source": [
    "joint_command = [-1, 0.1, 0.3, -1.4, 1]\n",
    "# Position Control\n",
    "controller.joint_group_command.publish(pack.joint_group_command(joint_command, \"all\"))"
   ]
  },
  {
   "cell_type": "code",
   "execution_count": 94,
   "id": "df953d1a",
   "metadata": {},
   "outputs": [],
   "source": [
    "arm_command = [-2, -1, 1.1, -0.6, 0.2]\n",
    "# Position Control \n",
    "controller.joint_group_command.publish(pack.joint_group_command(arm_command, \"arm\"))"
   ]
  },
  {
   "cell_type": "markdown",
   "id": "7e0a44fc",
   "metadata": {},
   "source": [
    "---"
   ]
  },
  {
   "cell_type": "markdown",
   "id": "dd5a9751",
   "metadata": {},
   "source": [
    "# Task Space Control"
   ]
  },
  {
   "cell_type": "code",
   "execution_count": 103,
   "id": "1187b61d",
   "metadata": {},
   "outputs": [],
   "source": [
    "xyz_command = np.array([0.3, 0.4, 0.8])\n",
    "quaternion_command = np.array([1, 0.0, 0.0, 0.0]) # xyz-w\n",
    "\n",
    "controller.task_space_command.publish(\n",
    "    pack.task_space_command(\"all\", xyz_command, quaternion_command)\n",
    ")"
   ]
  },
  {
   "cell_type": "markdown",
   "id": "78576f7b",
   "metadata": {},
   "source": [
    "---"
   ]
  },
  {
   "cell_type": "markdown",
   "id": "c31a26f4",
   "metadata": {},
   "source": [
    "# Joint States"
   ]
  },
  {
   "cell_type": "code",
   "execution_count": 44,
   "id": "75d0155f",
   "metadata": {},
   "outputs": [
    {
     "data": {
      "text/plain": [
       "({'seq': 0, 'stamp': {'sec': 0, 'nsec': 0}, 'frame_id': ''},\n",
       " ['xarm_arm_0_joint',\n",
       "  'xarm_arm_1_joint',\n",
       "  'xarm_arm_2_joint',\n",
       "  'xarm_arm_3_joint',\n",
       "  'xarm_arm_4_joint',\n",
       "  'xarm_arm_5_joint',\n",
       "  'xarm_arm_6_joint'],\n",
       " array([ 0.94613295, -0.31543036, -0.08368051,  1.25144731,  0.02817042,\n",
       "        -1.57956562,  2.96705973]),\n",
       " array([0., 0., 0., 0., 0., 0., 0.]),\n",
       " array([0., 0., 0., 0., 0., 0., 0.]))"
      ]
     },
     "execution_count": 44,
     "metadata": {},
     "output_type": "execute_result"
    }
   ],
   "source": [
    "unpack.joint_state(controller.state.get())"
   ]
  }
 ],
 "metadata": {
  "kernelspec": {
   "display_name": "ark_env",
   "language": "python",
   "name": "python3"
  },
  "language_info": {
   "codemirror_mode": {
    "name": "ipython",
    "version": 3
   },
   "file_extension": ".py",
   "mimetype": "text/x-python",
   "name": "python",
   "nbconvert_exporter": "python",
   "pygments_lexer": "ipython3",
   "version": "3.11.13"
  }
 },
 "nbformat": 4,
 "nbformat_minor": 5
}
